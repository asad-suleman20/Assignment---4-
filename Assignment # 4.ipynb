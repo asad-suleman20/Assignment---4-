{
 "cells": [
  {
   "cell_type": "code",
   "execution_count": 2,
   "metadata": {},
   "outputs": [
    {
     "name": "stdout",
     "output_type": "stream",
     "text": [
      "Select operation.\n",
      "1.Add\n",
      "2.Subtract\n",
      "3.Multiply\n",
      "4.Divide\n",
      "Enter choice(1/2/3/4: 3\n",
      "Enter First Number:5.32\n",
      "Enter Second Number:8.40\n",
      "5.32 * 8.4 = 44.688\n"
     ]
    }
   ],
   "source": [
    "# python program calculator with addition,subtraction,multiplication,division and power.\n",
    "def add(x,y):\n",
    "    return x + y\n",
    "def subtract(x,y):\n",
    "    return x - y\n",
    "def multiply(x,y):\n",
    "    return x * y\n",
    "def divide(x,y):\n",
    "    return x / y\n",
    "print(\"Select operation.\")\n",
    "print(\"1.Add\")\n",
    "print(\"2.Subtract\")\n",
    "print(\"3.Multiply\")\n",
    "print(\"4.Divide\")\n",
    "\n",
    "choice = input(\"Enter choice(1/2/3/4: \")\n",
    "num1 = float(input(\"Enter First Number:\"))\n",
    "num2 = float(input(\"Enter Second Number:\"))\n",
    "\n",
    "if choice == \"1\":\n",
    "    print(num1, \"+\", num2, \"=\", add(num1,num2))\n",
    "elif choice == \"2\":\n",
    "    print (num1,\"-\", num2, \"=\", subtract(num1,num2))\n",
    "elif choice == \"3\":\n",
    "    print(num1, \"*\", num2, \"=\", multiply(num1,num2))\n",
    "elif choice == \"4\":\n",
    "    print(num1, \"/\", num2, \"=\", divide(num1,num2))\n",
    "\n",
    "else:\n",
    "    print(\"Invalid input\")"
   ]
  },
  {
   "cell_type": "code",
   "execution_count": 3,
   "metadata": {},
   "outputs": [
    {
     "name": "stdout",
     "output_type": "stream",
     "text": [
      "Element Found\n"
     ]
    }
   ],
   "source": [
    "# python program to check if there is any numeric value in list using for loop\n",
    "mylist = [1,2,3,4,5,6,7]\n",
    "element = 7\n",
    "flag = 0\n",
    "for i in mylist:\n",
    "    if(i == element):\n",
    "        print(\"Element Found\")\n",
    "        flag = 1\n",
    "        break\n",
    "if(flag == 0):\n",
    "    print(\"Element not found\")"
   ]
  },
  {
   "cell_type": "code",
   "execution_count": 22,
   "metadata": {},
   "outputs": [
    {
     "name": "stdout",
     "output_type": "stream",
     "text": [
      "{1: 'a', 2: 'b', 3: 'c', 4: 'd'}\n",
      "{1: 'a', 2: 'b', 3: 'c', 4: 'd', 5: 'e'}\n"
     ]
    }
   ],
   "source": [
    "# python program to add a key to a dictionary\n",
    "a = a = dict([(1,'a'), (2,'b'),(3,'c'), (4,'d')])\n",
    "print(a)\n",
    "a.update({5:'e'})\n",
    "print(a)"
   ]
  },
  {
   "cell_type": "code",
   "execution_count": 21,
   "metadata": {},
   "outputs": [
    {
     "name": "stdout",
     "output_type": "stream",
     "text": [
      "{1: 10, 2: 20, 3: 30, 4: 40, 5: 50, 6: 60}\n"
     ]
    }
   ],
   "source": [
    "# Python program to sum all the numeric items in a dictionary.\n",
    "dic1 = {1:10, 2:20}\n",
    "dic2 = {3:30, 4:40}\n",
    "dic3 = {5:50, 6:60}\n",
    "\n",
    "dic4 = {}\n",
    "for d in (dic1, dic2, dic3):\n",
    "    dic4.update(d)\n",
    "print(dic4)"
   ]
  },
  {
   "cell_type": "code",
   "execution_count": 23,
   "metadata": {},
   "outputs": [
    {
     "name": "stdout",
     "output_type": "stream",
     "text": [
      "20\n"
     ]
    }
   ],
   "source": [
    "# python program to identify duplicate values from list.\n",
    "list1 = [10, 20, 30, 20, 40]\n",
    "list2 = []\n",
    "for i in list1:\n",
    "    if i not in list2:\n",
    "        list2.append(i)\n",
    "    else:\n",
    "        print(i)"
   ]
  },
  {
   "cell_type": "code",
   "execution_count": 25,
   "metadata": {},
   "outputs": [
    {
     "name": "stdout",
     "output_type": "stream",
     "text": [
      "{'a': 20, 'b': 30, 'c': 40, 'd': 50}\n",
      "The key c is in my dictionary\n"
     ]
    }
   ],
   "source": [
    "# Python script to check if a given key already exists in a dictionary.\n",
    "d = {'a':20, 'b':30, 'c':40, 'd':50}\n",
    "print(d)\n",
    "\n",
    "if \"c\" in d.keys():\n",
    "    print(\"The key c is in my dictionary\")\n",
    "else:\n",
    "    print(\"The key c is not in my dictionary\")"
   ]
  },
  {
   "cell_type": "code",
   "execution_count": null,
   "metadata": {},
   "outputs": [],
   "source": []
  }
 ],
 "metadata": {
  "kernelspec": {
   "display_name": "Python 3",
   "language": "python",
   "name": "python3"
  },
  "language_info": {
   "codemirror_mode": {
    "name": "ipython",
    "version": 3
   },
   "file_extension": ".py",
   "mimetype": "text/x-python",
   "name": "python",
   "nbconvert_exporter": "python",
   "pygments_lexer": "ipython3",
   "version": "3.7.6"
  }
 },
 "nbformat": 4,
 "nbformat_minor": 4
}
